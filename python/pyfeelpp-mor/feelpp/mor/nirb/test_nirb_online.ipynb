{
 "cells": [
  {
   "cell_type": "markdown",
   "metadata": {},
   "source": [
    "Import useful modules "
   ]
  },
  {
   "cell_type": "code",
   "execution_count": null,
   "metadata": {},
   "outputs": [],
   "source": [
    "import sys \n",
    "import os \n",
    "### discomment above two line ones to add the feelpp path with nirb module in the python environement  \n",
    "# feelpath = os.path.join('/data/home/elarif/devel/feelpp/build/python/install/lib/python3/dist-packages')\n",
    "# sys.path.append(feelpath)\n",
    "from feelpp.mor.nirb.nirb import *\n",
    "from feelpp.mor.nirb.utils import init_feelpp_environment\n",
    "from feelpp.mor.nirb.nirb_perf import ComputeErrorSampling, ComputeErrors\n",
    "import time\n",
    "import json \n",
    "import pandas as pd"
   ]
  },
  {
   "cell_type": "markdown",
   "metadata": {},
   "source": [
    "Choose config file"
   ]
  },
  {
   "cell_type": "code",
   "execution_count": null,
   "metadata": {},
   "outputs": [],
   "source": [
    "config_file =os.path.join(\"/data/home/elarif/devel/feelpp/python/pyfeelpp-mor/feelpp/mor/nirb/model/square/square.cfg\")\n",
    "N = None # number of basis function saved \n",
    "outdir = None "
   ]
  },
  {
   "cell_type": "markdown",
   "metadata": {},
   "source": [
    "Set feelpp environnement "
   ]
  },
  {
   "cell_type": "code",
   "execution_count": null,
   "metadata": {},
   "outputs": [],
   "source": [
    "cfg = feelpp.readCfg(config_file)\n",
    "toolboxType = cfg['nirb']['toolboxType']\n",
    "e = init_feelpp_environment(toolboxType, config_file)\n",
    "\n",
    "nirb_file = feelpp.Environment.expand(cfg['nirb']['filename'])\n",
    "config_nirb = feelpp.readJson(nirb_file)['nirb']"
   ]
  },
  {
   "cell_type": "markdown",
   "metadata": {},
   "source": [
    "Get number of basis functions saved. By defaults, it will take the value filled in the model path. "
   ]
  },
  {
   "cell_type": "code",
   "execution_count": null,
   "metadata": {},
   "outputs": [],
   "source": [
    "nbSnap=N\n",
    "if nbSnap==None:\n",
    "    nbSnap = config_nirb['nbSnapshots']"
   ]
  },
  {
   "cell_type": "markdown",
   "metadata": {},
   "source": [
    "Set the input/output path "
   ]
  },
  {
   "cell_type": "code",
   "execution_count": null,
   "metadata": {},
   "outputs": [],
   "source": [
    "doGreedy = config_nirb['greedy-generation']\n",
    "doRectification = config_nirb['doRectification']\n",
    "rectPath = [\"noRect\", \"Rect\"][doRectification]\n",
    "greedyPath = [\"noGreedy\", \"Greedy\"][doGreedy]\n",
    "\n",
    "if outdir is None:\n",
    "    RESPATH = f\"results/{rectPath}/{greedyPath}\"\n",
    "else:\n",
    "    RESPATH = outdir"
   ]
  },
  {
   "cell_type": "markdown",
   "metadata": {},
   "source": [
    "Initialize nirb offline class "
   ]
  },
  {
   "cell_type": "code",
   "execution_count": null,
   "metadata": {},
   "outputs": [],
   "source": [
    "nirb_on = nirbOnline(**config_nirb)"
   ]
  },
  {
   "cell_type": "markdown",
   "metadata": {},
   "source": [
    "Load offline data"
   ]
  },
  {
   "cell_type": "code",
   "execution_count": null,
   "metadata": {},
   "outputs": [],
   "source": [
    "\n",
    "start= time()\n",
    "\n",
    "err = nirb_on.loadData(path=RESPATH, nbSnap=nbSnap)\n",
    "assert err == 0, \"Error while loading data\""
   ]
  },
  {
   "cell_type": "markdown",
   "metadata": {},
   "source": [
    "Choose the parameter to cumpute nirb approximate solution "
   ]
  },
  {
   "cell_type": "code",
   "execution_count": null,
   "metadata": {},
   "outputs": [],
   "source": [
    "\n",
    "mu = nirb_on.Dmu.mumin() # get the min value of parameters given in the model\n"
   ]
  },
  {
   "cell_type": "markdown",
   "metadata": {},
   "source": [
    "Compute approximate solution "
   ]
  },
  {
   "cell_type": "code",
   "execution_count": null,
   "metadata": {},
   "outputs": [],
   "source": [
    "uHh = nirb_on.getOnlineSol(mu)\n",
    "\n",
    "finish = time()"
   ]
  },
  {
   "cell_type": "markdown",
   "metadata": {},
   "source": [
    "Show infos "
   ]
  },
  {
   "cell_type": "code",
   "execution_count": null,
   "metadata": {},
   "outputs": [],
   "source": [
    "\n",
    "if feelpp.Environment.isMasterRank():\n",
    "    print(f\"[NIRB] Online Elapsed time = \", finish-start)\n",
    "    print(f\"[NIRB] Online part Done !\")"
   ]
  },
  {
   "cell_type": "markdown",
   "metadata": {},
   "source": [
    "# NIRB perfs "
   ]
  },
  {
   "cell_type": "markdown",
   "metadata": {},
   "source": [
    "We can compare the above nirb solution with the FE one. "
   ]
  },
  {
   "cell_type": "code",
   "execution_count": null,
   "metadata": {},
   "outputs": [],
   "source": [
    "errorN = ComputeErrors(nirb_on, mu, h1=True)\n",
    "df = pd.DataFrame(errorN)\n",
    "df['N'] = nirb_on.N"
   ]
  },
  {
   "cell_type": "markdown",
   "metadata": {},
   "source": [
    "Display errors "
   ]
  },
  {
   "cell_type": "code",
   "execution_count": null,
   "metadata": {},
   "outputs": [],
   "source": [
    "\n",
    "if feelpp.Environment.isMasterRank():\n",
    "    print(f\"[NIRB online] with {nirb_on.N} basis functions \")\n",
    "    print(f\"[NIRB online] Convergence error between nirb and FE solution \")\n",
    "    print(df.head())"
   ]
  },
  {
   "cell_type": "markdown",
   "metadata": {},
   "source": [
    "Or get error on a sampling of parameters. This will compare the nirb solution with the FE one on the fine mesh computed from parameter in the sampling (take little time). "
   ]
  },
  {
   "cell_type": "code",
   "execution_count": null,
   "metadata": {},
   "outputs": [],
   "source": [
    "Nsample = 30\n",
    "errorN = ComputeErrorSampling(nirb_on, Nsample=Nsample, h1=True)\n",
    "df = pd.DataFrame(errorN)\n",
    "df['N'] = nirb_on.N"
   ]
  },
  {
   "cell_type": "markdown",
   "metadata": {},
   "source": [
    "Display errors "
   ]
  },
  {
   "cell_type": "code",
   "execution_count": null,
   "metadata": {},
   "outputs": [],
   "source": [
    "\n",
    "if feelpp.Environment.isMasterRank():\n",
    "    print(f\"[NIRB online] with {nirb_on.N} basis functions \")\n",
    "    print(f\"[NIRB online] Error on a sampling of {df.shape[0]} parameters \")\n",
    "    data_mean = df.mean(axis=0)\n",
    "    print(\"[NIRB online] Mean of errors \")\n",
    "    print(data_mean)\n",
    "    data_min = df.min(axis=0)\n",
    "    print(\"[NIRB online] Min of errors \")\n",
    "    print(data_min)\n",
    "    data_max = df.max(axis=0)\n",
    "    print(\"[NIRB online] Max of errors \")\n",
    "    print(data_max)"
   ]
  },
  {
   "cell_type": "markdown",
   "metadata": {},
   "source": [
    "Save covergence error values in a `csv` file for making statistics or vizualisation   "
   ]
  },
  {
   "cell_type": "code",
   "execution_count": null,
   "metadata": {},
   "outputs": [],
   "source": [
    "\n",
    "file =RESPATH +f\"/errors{Nsample}Params.csv\"\n",
    "header = not os.path.isfile(file)   \n",
    "df.to_csv(file, mode='a', index=False, header=header)"
   ]
  }
 ],
 "metadata": {
  "kernelspec": {
   "display_name": "Python 3.10.6 64-bit",
   "language": "python",
   "name": "python3"
  },
  "language_info": {
   "name": "python",
   "version": "3.10.6"
  },
  "orig_nbformat": 4,
  "vscode": {
   "interpreter": {
    "hash": "e7370f93d1d0cde622a1f8e1c04877d8463912d04d973331ad4851f04de6915a"
   }
  }
 },
 "nbformat": 4,
 "nbformat_minor": 2
}
