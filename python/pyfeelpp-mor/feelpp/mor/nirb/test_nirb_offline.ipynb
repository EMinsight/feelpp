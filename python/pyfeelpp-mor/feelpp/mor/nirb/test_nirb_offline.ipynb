{
 "cells": [
  {
   "cell_type": "markdown",
   "metadata": {},
   "source": [
    "Import useful modules "
   ]
  },
  {
   "cell_type": "code",
   "execution_count": null,
   "metadata": {},
   "outputs": [],
   "source": [
    "import sys \n",
    "import os\n",
    "### discomment above two line ones to add the feelpp path with nirb module in the python environement  \n",
    "# feelpath = os.path.join('/data/home/elarif/devel/feelpp/build/python/install/lib/python3/dist-packages')\n",
    "# sys.path.append(feelpath)\n",
    "print(sys.path) \n",
    "from feelpp.mor.nirb.nirb import *\n",
    "from feelpp.mor.nirb.utils import init_feelpp_environment\n",
    "import time\n",
    "import json \n"
   ]
  },
  {
   "cell_type": "markdown",
   "metadata": {},
   "source": [
    "Choose config file"
   ]
  },
  {
   "cell_type": "code",
   "execution_count": 13,
   "metadata": {},
   "outputs": [],
   "source": [
    "config_file =os.path.join(\"/data/home/elarif/devel/feelpp/python/pyfeelpp-mor/feelpp/mor/nirb/model/square/square.cfg\")\n",
    "N = None # number of initiale snapshot \n",
    "greedy_tol = 1.e-5 # convergence criteria of Greedy method \n",
    "Nmax_greedy = 100 \n",
    "outdir = None "
   ]
  },
  {
   "cell_type": "markdown",
   "metadata": {},
   "source": [
    "Set feelpp environment "
   ]
  },
  {
   "cell_type": "code",
   "execution_count": null,
   "metadata": {},
   "outputs": [],
   "source": [
    "cfg = feelpp.readCfg(config_file)\n",
    "toolboxType = cfg['nirb']['toolboxType']\n",
    "e = init_feelpp_environment(toolboxType, config_file)\n",
    "\n",
    "nirb_file = feelpp.Environment.expand(cfg['nirb']['filename'])\n",
    "config_nirb = feelpp.readJson(nirb_file)['nirb']"
   ]
  },
  {
   "cell_type": "markdown",
   "metadata": {},
   "source": [
    "Get number of initial snapshots. By defaults, it will take the value filled in the model path. "
   ]
  },
  {
   "cell_type": "code",
   "execution_count": null,
   "metadata": {},
   "outputs": [],
   "source": [
    "nbSnap=N\n",
    "if nbSnap==None:\n",
    "    nbSnap = config_nirb['nbSnapshots']"
   ]
  },
  {
   "cell_type": "markdown",
   "metadata": {},
   "source": [
    "Set the output path "
   ]
  },
  {
   "cell_type": "code",
   "execution_count": null,
   "metadata": {},
   "outputs": [],
   "source": [
    "doGreedy = config_nirb['greedy-generation']\n",
    "doRectification = config_nirb['doRectification']\n",
    "rectPath = [\"noRect\", \"Rect\"][doRectification]\n",
    "greedyPath = [\"noGreedy\", \"Greedy\"][doGreedy]\n",
    "\n",
    "if outdir is None:\n",
    "    RESPATH = f\"results/{rectPath}/{greedyPath}\"\n",
    "else:\n",
    "    RESPATH = outdir"
   ]
  },
  {
   "cell_type": "markdown",
   "metadata": {},
   "source": [
    "Initialize nirb offline class "
   ]
  },
  {
   "cell_type": "code",
   "execution_count": null,
   "metadata": {},
   "outputs": [],
   "source": [
    "nirb_off = nirbOffline(initCoarse=True, **config_nirb)"
   ]
  },
  {
   "cell_type": "markdown",
   "metadata": {},
   "source": [
    "Generate L2 and H1 operators in fine mesh. If `coarse=True`, It generate those operators in coarse mesh too (this is needed for Greedy method). "
   ]
  },
  {
   "cell_type": "code",
   "execution_count": 16,
   "metadata": {},
   "outputs": [],
   "source": [
    "start=time.time()\n",
    "\n",
    "nirb_off.generateOperators(coarse=True)"
   ]
  },
  {
   "cell_type": "markdown",
   "metadata": {},
   "source": [
    "Get nirb reduced basis functions "
   ]
  },
  {
   "cell_type": "code",
   "execution_count": null,
   "metadata": {},
   "outputs": [],
   "source": [
    "Xi_train=None\n",
    "\n",
    "if doGreedy:\n",
    "    _, Xi_train, _ = nirb_off.initProblemGreedy(500, greedy_tol, Nmax=Nmax_greedy, Xi_train=Xi_train, computeCoarse=True, samplingMode=\"log-random\")\n",
    "else:\n",
    "    Xi_train = nirb_off.initProblem(nbSnap)\n",
    "nirb_off.generateReducedBasis(regulParam=1.e-10)\n",
    "\n",
    "print(\"Is L2 orthonormalized ?\", nirb_off.checkL2Orthonormalized())\n"
   ]
  },
  {
   "cell_type": "markdown",
   "metadata": {},
   "source": [
    "Save datas. \n",
    "\n",
    "If `outdir`is given, the results will be saved on this path. otherwise they are saved in : \"HOME/feelppdb/nirb/{ToolboxType}/np_{k}/{RESPATH}\" where `k` is the number of process. "
   ]
  },
  {
   "cell_type": "code",
   "execution_count": null,
   "metadata": {},
   "outputs": [],
   "source": [
    "nirb_off.saveData(RESPATH, force=True)\n",
    "\n",
    "finish=time.time() "
   ]
  },
  {
   "cell_type": "markdown",
   "metadata": {},
   "source": [
    "Get infos "
   ]
  },
  {
   "cell_type": "code",
   "execution_count": null,
   "metadata": {},
   "outputs": [],
   "source": [
    "info = nirb_off.getInformations()\n",
    "\n",
    "if feelpp.Environment.isMasterRank():\n",
    "    print(json.dumps(info, sort_keys=True, indent=4))\n",
    "    print(f\"[NIRB] Offline Elapsed time = \", finish-start)\n",
    "    print(f\"[NIRB] Offline part Done !\")"
   ]
  }
 ],
 "metadata": {
  "kernelspec": {
   "display_name": "Python 3.10.6 64-bit",
   "language": "python",
   "name": "python3"
  },
  "language_info": {
   "codemirror_mode": {
    "name": "ipython",
    "version": 3
   },
   "file_extension": ".py",
   "mimetype": "text/x-python",
   "name": "python",
   "nbconvert_exporter": "python",
   "pygments_lexer": "ipython3",
   "version": "3.10.6"
  },
  "orig_nbformat": 4,
  "vscode": {
   "interpreter": {
    "hash": "e7370f93d1d0cde622a1f8e1c04877d8463912d04d973331ad4851f04de6915a"
   }
  }
 },
 "nbformat": 4,
 "nbformat_minor": 2
}
