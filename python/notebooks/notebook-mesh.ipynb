{
 "cells": [
  {
   "cell_type": "code",
   "execution_count": 1,
   "metadata": {},
   "outputs": [
    {
     "name": "stdout",
     "output_type": "stream",
     "text": [
      "Using install_prefix=../../build/python/install\n",
      "['/scratch/prudhomm/Devel/feelpp.quickfix/build/python/install/lib/python3/dist-packages', '/scratch/prudhomm/Devel/feelpp.quickfix/python/notebooks', '/usr/lib/python310.zip', '/usr/lib/python3.10', '/usr/lib/python3.10/lib-dynload', '', '/home/u2/prudhomm/.local/lib/python3.10/site-packages', '/usr/local/lib/python3.10/dist-packages', '/usr/local/lib/python3/dist-packages/', '/usr/lib/python3/dist-packages', '/usr/lib/petsc/lib/python3/dist-packages', '/usr/lib/slepc/lib/python3/dist-packages', '/usr/lib/python3/dist-packages/IPython/extensions', '/home/u2/prudhomm/.ipython']\n"
     ]
    }
   ],
   "source": [
    "import sys,os\n",
    "dev_mode = True\n",
    "preset = 'python'\n",
    "\n",
    "if dev_mode:\n",
    "    try:\n",
    "        install_prefix = os.environ['CMAKE_INSTALL_PREFIX']\n",
    "        print(f'Using CMAKE_INSTALL_PREFIX={install_prefix}')\n",
    "    except KeyError:\n",
    "        install_prefix = f'../../build/{preset}/install'\n",
    "print(f'Using install_prefix={install_prefix}')\n",
    "if dev_mode and os.path.exists(f'{install_prefix}/lib/python3/dist-packages'):\n",
    "    sys.path.insert(0, os.path.abspath(f'{install_prefix}/lib/python3/dist-packages'))\n",
    "print(sys.path)"
   ]
  },
  {
   "cell_type": "code",
   "execution_count": 2,
   "metadata": {},
   "outputs": [
    {
     "name": "stdout",
     "output_type": "stream",
     "text": [
      "feelpp loaded from /scratch/prudhomm/Devel/feelpp.quickfix/build/python/install/lib/python3/dist-packages/feelpp/__init__.py\n"
     ]
    }
   ],
   "source": [
    "import feelpp\n",
    "from feelpp.meshmover import *\n",
    "from feelpp.integrate import integrate\n",
    "from feelpp.measure import measure\n",
    "import feelpp.toolboxes.core as core\n",
    "from feelpp.toolboxes.cfpdes import *\n",
    "import numpy as np\n",
    "print(f\"feelpp loaded from {feelpp.__file__}\")"
   ]
  },
  {
   "cell_type": "code",
   "execution_count": 3,
   "metadata": {},
   "outputs": [],
   "source": [
    "sys.argv = ['notebook-mesh']\n",
    "e = feelpp.Environment(sys.argv,config=feelpp.localRepository(sys.argv[0]),opts = core.toolboxes_options(\"coefficient-form-pdes\", \"cfpdes\"))"
   ]
  },
  {
   "cell_type": "code",
   "execution_count": 4,
   "metadata": {},
   "outputs": [],
   "source": [
    "geo = {\n",
    "    '2': feelpp.create_rectangle(),\n",
    "    '3': feelpp.create_box(),\n",
    "}\n",
    " "
   ]
  },
  {
   "cell_type": "code",
   "execution_count": 5,
   "metadata": {},
   "outputs": [],
   "source": [
    "mesh_name, dim, e_meas, e_s_1, e_s_2, e_s_bdy = geo['2']\n",
    "mesh = feelpp.load(feelpp.mesh(dim=dim), mesh_name, 0.1)\n",
    "\n",
    "Xh = feelpp.functionSpace(mesh=mesh,space=\"Pchv\")\n",
    "u = Xh.element()\n",
    "M=measure(range=feelpp.elements(mesh))\n",
    "assert(abs(M-2)<1e-10)"
   ]
  },
  {
   "cell_type": "code",
   "execution_count": 10,
   "metadata": {},
   "outputs": [],
   "source": [
    "laplacian={\n",
    "    \"Name\": \"Laplacian\",\n",
    "    \"ShortName\": \"Laplacian\",\n",
    "    \"Models\":\n",
    "    {\n",
    "        \"cfpdes\":{ \"equations\":\"laplace\" },\n",
    "        \"laplace\":{\n",
    "            \"setup\":{\n",
    "                \"unknown\":{\n",
    "                    \"basis\":\"Pchv1\",\n",
    "                    \"name\":\"u\",\n",
    "                    \"symbol\":\"u\"\n",
    "                },\n",
    "                \"coefficients\":{ \"c\":\"1\", \"f\":\"{1,1}\"}\n",
    "            }\n",
    "        }\n",
    "    },\n",
    "    \"Materials\": { \"Omega\": { \"markers\":\"Omega\" } },\n",
    "    \"BoundaryConditions\":\n",
    "    {\n",
    "        \"laplace\":\n",
    "        {\n",
    "            \"Dirichlet\":\n",
    "            {\n",
    "                \"GammaMove\":\n",
    "                {\n",
    "                    \"markers\":[\"Gamma_1\"],\n",
    "                    \"expr\":\"{0,amplitude*x*(1-x)+0.1}:x:amplitude\"\n",
    "                },\n",
    "                \"zero\":\n",
    "                {   \n",
    "                    \"markers\":[\"Gamma_2\",\"Gamma_3\",\"Gamma_4\"],\n",
    "                    \"expr\":\"{0,0}\"\n",
    "                }\n",
    "            }\n",
    "        }\n",
    "    },\n",
    "    \"PostProcess\":\n",
    "    {\n",
    "        \"cfpdes\":\n",
    "        {\n",
    "            \"Exports\":\n",
    "            {\n",
    "                \"fields\":[\"all\"]\n",
    "            }\n",
    "        }\n",
    "    }\n",
    "}\n"
   ]
  },
  {
   "cell_type": "code",
   "execution_count": null,
   "metadata": {},
   "outputs": [],
   "source": [
    "toolbox=cfpdes(dim=2)\n",
    "toolbox.setMesh(mesh)\n",
    "toolbox.setModelProperties(laplacian)\n",
    "toolbox.addParameterInModelProperties(\"amplitude\",2.)\n",
    "\n",
    "#\n",
    "toolbox.init(buildModelAlgebraicFactory=True)\n",
    "toolbox.solve()\n",
    "toolbox.exportResults()"
   ]
  },
  {
   "cell_type": "code",
   "execution_count": null,
   "metadata": {},
   "outputs": [],
   "source": [
    "assert(abs(M-2)<1e-10)\n",
    "newmesh = meshMove(mesh,u)\n",
    "M=measure(range=feelpp.elements(newmesh))   \n",
    "\n",
    "# Equal to 8 in 2d and 3d\n",
    "assert(abs(M-8)<1e-10)"
   ]
  }
 ],
 "metadata": {
  "kernelspec": {
   "display_name": "Python 3",
   "language": "python",
   "name": "python3"
  },
  "language_info": {
   "codemirror_mode": {
    "name": "ipython",
    "version": 3
   },
   "file_extension": ".py",
   "mimetype": "text/x-python",
   "name": "python",
   "nbconvert_exporter": "python",
   "pygments_lexer": "ipython3",
   "version": "3.10.6"
  },
  "orig_nbformat": 4,
  "vscode": {
   "interpreter": {
    "hash": "e7370f93d1d0cde622a1f8e1c04877d8463912d04d973331ad4851f04de6915a"
   }
  }
 },
 "nbformat": 4,
 "nbformat_minor": 2
}
